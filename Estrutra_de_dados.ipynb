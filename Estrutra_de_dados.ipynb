{
  "nbformat": 4,
  "nbformat_minor": 0,
  "metadata": {
    "colab": {
      "name": "Estrutra_de_dados.ipynb",
      "provenance": [],
      "collapsed_sections": [],
      "authorship_tag": "ABX9TyPo6rfvxnlXrzuVvy5D8wdG",
      "include_colab_link": true
    },
    "kernelspec": {
      "name": "python3",
      "display_name": "Python 3"
    },
    "language_info": {
      "name": "python"
    }
  },
  "cells": [
    {
      "cell_type": "markdown",
      "metadata": {
        "id": "view-in-github",
        "colab_type": "text"
      },
      "source": [
        "<a href=\"https://colab.research.google.com/github/DanielleYurit/LibrayPandas/blob/main/Estrutra_de_dados.ipynb\" target=\"_parent\"><img src=\"https://colab.research.google.com/assets/colab-badge.svg\" alt=\"Open In Colab\"/></a>"
      ]
    },
    {
      "cell_type": "markdown",
      "metadata": {
        "id": "4BHH94zfUbWG"
      },
      "source": [
        "**Estrutura de dados**"
      ]
    },
    {
      "cell_type": "markdown",
      "metadata": {
        "id": "S7taYssoUfdF"
      },
      "source": [
        "**Listas**"
      ]
    },
    {
      "cell_type": "code",
      "metadata": {
        "id": "DOBdX_zyUT_q"
      },
      "source": [
        "animais = [1,2,3]\n",
        "animais"
      ],
      "execution_count": null,
      "outputs": []
    },
    {
      "cell_type": "code",
      "metadata": {
        "id": "MhANiKr7Umh-"
      },
      "source": [
        "animais = [\"cachorro\",\"gato\",12345,6.5]\n",
        "animais"
      ],
      "execution_count": null,
      "outputs": []
    },
    {
      "cell_type": "code",
      "metadata": {
        "id": "7D1iL5EeUr1B"
      },
      "source": [
        "animais[0]"
      ],
      "execution_count": null,
      "outputs": []
    },
    {
      "cell_type": "code",
      "metadata": {
        "id": "aypKFtDfUxTG"
      },
      "source": [
        "animais[3]"
      ],
      "execution_count": null,
      "outputs": []
    },
    {
      "cell_type": "code",
      "metadata": {
        "id": "ibm3afwmUyqx"
      },
      "source": [
        "animais[0] = 'papagaio'"
      ],
      "execution_count": null,
      "outputs": []
    },
    {
      "cell_type": "code",
      "metadata": {
        "id": "UcgHd66HU21w"
      },
      "source": [
        "animais"
      ],
      "execution_count": null,
      "outputs": []
    },
    {
      "cell_type": "code",
      "metadata": {
        "id": "r08-UIAJU4Hq"
      },
      "source": [
        "animais.remove(\"gato\")"
      ],
      "execution_count": null,
      "outputs": []
    },
    {
      "cell_type": "code",
      "metadata": {
        "id": "kxiQ9849U9Wt"
      },
      "source": [
        "animais"
      ],
      "execution_count": null,
      "outputs": []
    },
    {
      "cell_type": "code",
      "metadata": {
        "id": "XsUg4dH2U-dx"
      },
      "source": [
        "len(animais)"
      ],
      "execution_count": null,
      "outputs": []
    },
    {
      "cell_type": "code",
      "metadata": {
        "id": "qHzeP-NPVBm0"
      },
      "source": [
        "\"gato\" in animais"
      ],
      "execution_count": null,
      "outputs": []
    },
    {
      "cell_type": "code",
      "metadata": {
        "id": "HXAZKQCVVDz7"
      },
      "source": [
        "lista = [500, 30, 300, 80, 10]"
      ],
      "execution_count": null,
      "outputs": []
    },
    {
      "cell_type": "code",
      "metadata": {
        "id": "iqsyhWxiVHqp"
      },
      "source": [
        "max(lista)"
      ],
      "execution_count": null,
      "outputs": []
    },
    {
      "cell_type": "code",
      "metadata": {
        "id": "JoUOdVsNVJJr"
      },
      "source": [
        "min(lista)"
      ],
      "execution_count": null,
      "outputs": []
    },
    {
      "cell_type": "code",
      "metadata": {
        "id": "Bo-INt2IVKne"
      },
      "source": [
        "animais.append([\"leão\",\"cachorro\"])"
      ],
      "execution_count": null,
      "outputs": []
    },
    {
      "cell_type": "code",
      "metadata": {
        "id": "DdwMSgWWVO8J"
      },
      "source": [
        "animais"
      ],
      "execution_count": null,
      "outputs": []
    },
    {
      "cell_type": "code",
      "metadata": {
        "id": "MzGA0oxcVP4a"
      },
      "source": [
        "animais.extend([\"cobra\",6])"
      ],
      "execution_count": null,
      "outputs": []
    },
    {
      "cell_type": "code",
      "metadata": {
        "id": "AxClK3MeVWxD"
      },
      "source": [
        "animais"
      ],
      "execution_count": null,
      "outputs": []
    },
    {
      "cell_type": "code",
      "metadata": {
        "id": "USR8ytZ4VX_6"
      },
      "source": [
        "animais.count(\"leão\")"
      ],
      "execution_count": null,
      "outputs": []
    },
    {
      "cell_type": "code",
      "metadata": {
        "id": "lm96iSZXVbMs"
      },
      "source": [
        "lista.sort()"
      ],
      "execution_count": null,
      "outputs": []
    },
    {
      "cell_type": "code",
      "metadata": {
        "id": "iKUGcFJGW5Jk"
      },
      "source": [
        "lista"
      ],
      "execution_count": null,
      "outputs": []
    },
    {
      "cell_type": "markdown",
      "metadata": {
        "id": "fDyUOqnPW-Sz"
      },
      "source": [
        "**Tuplas**"
      ]
    },
    {
      "cell_type": "code",
      "metadata": {
        "id": "NVcXO901W6y9"
      },
      "source": [
        "tp = (\"Banana\",\"Maçã\",10,50)"
      ],
      "execution_count": null,
      "outputs": []
    },
    {
      "cell_type": "code",
      "metadata": {
        "id": "sUzcCGpLXUzn"
      },
      "source": [
        "tp[0]"
      ],
      "execution_count": null,
      "outputs": []
    },
    {
      "cell_type": "code",
      "metadata": {
        "id": "Z3ws43LTXYrr"
      },
      "source": [
        "tp[0] = \"Laranja\""
      ],
      "execution_count": null,
      "outputs": []
    },
    {
      "cell_type": "code",
      "metadata": {
        "id": "iXns0Vu0Xw9V"
      },
      "source": [
        "tp.count(\"Maçã\")"
      ],
      "execution_count": null,
      "outputs": []
    },
    {
      "cell_type": "code",
      "metadata": {
        "id": "Tq__PVUwX5Pz"
      },
      "source": [
        "tp[0:2]"
      ],
      "execution_count": null,
      "outputs": []
    },
    {
      "cell_type": "markdown",
      "metadata": {
        "id": "RdwsGrbOYKiH"
      },
      "source": [
        "**Dicionarios**\n"
      ]
    },
    {
      "cell_type": "code",
      "metadata": {
        "id": "ASP_XdhmYIRu"
      },
      "source": [
        "dc = {\"Maçã\":20, \"Banana\":10, \"Laranja\":15, \"Uva\":5}"
      ],
      "execution_count": null,
      "outputs": []
    },
    {
      "cell_type": "code",
      "metadata": {
        "id": "hTNIuc9QYeb6"
      },
      "source": [
        "dc"
      ],
      "execution_count": null,
      "outputs": []
    },
    {
      "cell_type": "code",
      "metadata": {
        "id": "LelA0oXQYhw_"
      },
      "source": [
        "dc[\"Maçã\"]"
      ],
      "execution_count": null,
      "outputs": []
    },
    {
      "cell_type": "code",
      "metadata": {
        "id": "bkE4E1YBYnDi"
      },
      "source": [
        "dc[\"Maçã\"] = 25\n",
        "dc"
      ],
      "execution_count": null,
      "outputs": []
    },
    {
      "cell_type": "code",
      "metadata": {
        "id": "3mdqhM9zYrJ5"
      },
      "source": [
        "dc.keys()"
      ],
      "execution_count": null,
      "outputs": []
    },
    {
      "cell_type": "code",
      "metadata": {
        "id": "vzRhAPi2Ytx-"
      },
      "source": [
        "dc.values()"
      ],
      "execution_count": null,
      "outputs": []
    },
    {
      "cell_type": "code",
      "metadata": {
        "id": "qlMPIZwQYveJ"
      },
      "source": [
        "dc.setdefault(\"Limão\",22)"
      ],
      "execution_count": null,
      "outputs": []
    },
    {
      "cell_type": "code",
      "metadata": {
        "id": "cczbzgOFY24z"
      },
      "source": [
        "dc"
      ],
      "execution_count": null,
      "outputs": []
    }
  ]
}